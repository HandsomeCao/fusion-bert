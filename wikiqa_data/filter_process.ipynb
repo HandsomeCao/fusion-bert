{
 "cells": [
  {
   "cell_type": "code",
   "execution_count": 12,
   "metadata": {
    "ExecuteTime": {
     "end_time": "2020-04-07T09:23:13.095936Z",
     "start_time": "2020-04-07T09:23:13.029921Z"
    },
    "scrolled": true
   },
   "outputs": [
    {
     "data": {
      "text/plain": [
       "[['how are glacier caves formed?',\n",
       "  'A partly submerged glacier cave on Perito Moreno Glacier .',\n",
       "  '0'],\n",
       " ['how are glacier caves formed?',\n",
       "  'The ice facade is approximately 60 m high',\n",
       "  '0'],\n",
       " ['how are glacier caves formed?',\n",
       "  'Ice formations in the Titlis glacier cave',\n",
       "  '0']]"
      ]
     },
     "execution_count": 12,
     "metadata": {},
     "output_type": "execute_result"
    }
   ],
   "source": [
    "import csv\n",
    "\n",
    "csv_file = './filtered-train.tsv'\n",
    "output_file = './train.tsv'\n",
    "\n",
    "datasets = []\n",
    "with open(csv_file, 'r', encoding='utf-8') as fr:\n",
    "    reader = csv.reader(fr, delimiter=',')\n",
    "    for idx, line in enumerate(reader):\n",
    "        if idx == 0:\n",
    "            continue\n",
    "        datasets.append([line[2], line[4], str(int(float(line[-1])))])\n",
    "datasets[:3]"
   ]
  },
  {
   "cell_type": "code",
   "execution_count": 14,
   "metadata": {
    "ExecuteTime": {
     "end_time": "2020-04-07T09:24:56.722929Z",
     "start_time": "2020-04-07T09:24:56.659013Z"
    }
   },
   "outputs": [],
   "source": [
    "with open(output_file, 'w', encoding='utf-8') as fw:\n",
    "    writer = csv.writer(fw, delimiter='\\t')\n",
    "    for data in datasets:\n",
    "        writer.writerow(data)"
   ]
  },
  {
   "cell_type": "code",
   "execution_count": null,
   "metadata": {},
   "outputs": [],
   "source": []
  }
 ],
 "metadata": {
  "kernelspec": {
   "display_name": "Python 3",
   "language": "python",
   "name": "python3"
  },
  "language_info": {
   "codemirror_mode": {
    "name": "ipython",
    "version": 3
   },
   "file_extension": ".py",
   "mimetype": "text/x-python",
   "name": "python",
   "nbconvert_exporter": "python",
   "pygments_lexer": "ipython3",
   "version": "3.6.8"
  },
  "toc": {
   "base_numbering": 1,
   "nav_menu": {},
   "number_sections": true,
   "sideBar": true,
   "skip_h1_title": false,
   "title_cell": "Table of Contents",
   "title_sidebar": "Contents",
   "toc_cell": false,
   "toc_position": {},
   "toc_section_display": true,
   "toc_window_display": false
  }
 },
 "nbformat": 4,
 "nbformat_minor": 2
}
